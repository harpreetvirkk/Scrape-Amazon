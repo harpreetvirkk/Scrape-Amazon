{
 "cells": [
  {
   "cell_type": "code",
   "execution_count": 42,
   "metadata": {},
   "outputs": [],
   "source": [
    "import pandas as pd\n",
    "import requests "
   ]
  },
  {
   "cell_type": "markdown",
   "metadata": {},
   "source": [
    "## INPUT\n",
    "\n",
    "Here, to use a file for reading words, comment the input line, and remove comment # from the rest of the lines"
   ]
  },
  {
   "cell_type": "code",
   "execution_count": 44,
   "metadata": {},
   "outputs": [],
   "source": [
    "words = input('Enter word to get suggestions for!\\n')\n",
    "# f = open('./../DATASET/SearchSuggestionKeywords.txt', 'r')\n",
    "# words = []\n",
    "# for w in f:\n",
    "#     words.append(w.replace('\\n', '').replace(' ', '+'))"
   ]
  },
  {
   "cell_type": "code",
   "execution_count": 60,
   "metadata": {},
   "outputs": [
    {
     "name": "stdout",
     "output_type": "stream",
     "text": [
      "{1: 'abcd blocks for kids', 2: 'abcd blocks for kids', 3: 'abcd mats for kids large size', 4: 'abc writing books for 3 year old', 5: 'abcd toys for kids', 6: 'abcd books for kids 3 years', 7: 'abcd charts for kids', 8: 'abc mat for kids', 9: 'abc chemistry class 11', 10: 'abcd writing books for kids', 11: 'abc blocks for kids'}\n",
      "{1: 'defusers for home', 2: 'defusers for home', 3: 'defabluous shampoo and conditioner', 4: 'defence weapons', 5: 'defusers for home electric', 6: 'defence stick', 7: 'defabluous shampoo', 8: 'defence direct education books', 9: 'defence knife', 10: 'defogger machine', 11: 'defianz'}\n"
     ]
    }
   ],
   "source": [
    "suggestions = []\n",
    "\n",
    "for w in words:\n",
    "    url = 'https://completion.amazon.co.uk/api/2017/suggestions?session-id=258-8222884-0745536&customer-id=A1DWR5F96BKA68&request-id=5HNHF7Y14AJTCZTPAGHA&page-type=Gateway&lop=en_IN&site-variant=desktop&client-info=amazon-search-ui&mid=A21TJRUUN4KGV&alias=aps&b2b=0&fresh=0&ks=80&prefix='+w+'&event=onKeyPress&limit=11&fb=1&suggestion-type=KEYWORD&suggestion-type=WIDGET&_=1596303646507'\n",
    "    source = requests.get(url).json()\n",
    "    sugg = {}\n",
    "    idx = 1\n",
    "    for s in source['suggestions']:\n",
    "        sugg[idx]= s['value']\n",
    "        idx +=1\n",
    "    print(sugg)\n",
    "    suggestions.append({w:sugg})"
   ]
  },
  {
   "cell_type": "markdown",
   "metadata": {},
   "source": [
    "## Output\n",
    "\n",
    "Suggestions is now a list of dictionaries, where the key is the word used and the value is a dictionary containing its respective search suggestions."
   ]
  },
  {
   "cell_type": "code",
   "execution_count": 61,
   "metadata": {},
   "outputs": [
    {
     "name": "stdout",
     "output_type": "stream",
     "text": [
      "[{'abc': {1: 'abcd blocks for kids', 2: 'abcd blocks for kids', 3: 'abcd mats for kids large size', 4: 'abc writing books for 3 year old', 5: 'abcd toys for kids', 6: 'abcd books for kids 3 years', 7: 'abcd charts for kids', 8: 'abc mat for kids', 9: 'abc chemistry class 11', 10: 'abcd writing books for kids', 11: 'abc blocks for kids'}}, {'def': {1: 'defusers for home', 2: 'defusers for home', 3: 'defabluous shampoo and conditioner', 4: 'defence weapons', 5: 'defusers for home electric', 6: 'defence stick', 7: 'defabluous shampoo', 8: 'defence direct education books', 9: 'defence knife', 10: 'defogger machine', 11: 'defianz'}}]\n"
     ]
    }
   ],
   "source": [
    "print(suggestions)"
   ]
  },
  {
   "cell_type": "code",
   "execution_count": null,
   "metadata": {},
   "outputs": [],
   "source": []
  },
  {
   "cell_type": "code",
   "execution_count": null,
   "metadata": {},
   "outputs": [],
   "source": []
  },
  {
   "cell_type": "code",
   "execution_count": null,
   "metadata": {},
   "outputs": [],
   "source": []
  },
  {
   "cell_type": "code",
   "execution_count": null,
   "metadata": {},
   "outputs": [],
   "source": []
  },
  {
   "cell_type": "code",
   "execution_count": null,
   "metadata": {},
   "outputs": [],
   "source": [
    "    "
   ]
  }
 ],
 "metadata": {
  "kernelspec": {
   "display_name": "Python 3",
   "language": "python",
   "name": "python3"
  },
  "language_info": {
   "codemirror_mode": {
    "name": "ipython",
    "version": 3
   },
   "file_extension": ".py",
   "mimetype": "text/x-python",
   "name": "python",
   "nbconvert_exporter": "python",
   "pygments_lexer": "ipython3",
   "version": "3.7.7"
  }
 },
 "nbformat": 4,
 "nbformat_minor": 4
}
